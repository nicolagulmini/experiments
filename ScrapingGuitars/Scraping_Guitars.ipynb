{
  "nbformat": 4,
  "nbformat_minor": 0,
  "metadata": {
    "colab": {
      "provenance": []
    },
    "kernelspec": {
      "name": "python3",
      "display_name": "Python 3"
    },
    "language_info": {
      "name": "python"
    }
  },
  "cells": [
    {
      "cell_type": "code",
      "execution_count": 1,
      "metadata": {
        "id": "q1hsu-KkVSzZ"
      },
      "outputs": [],
      "source": [
        "import bs4\n",
        "import requests as r\n",
        "from IPython.display import Javascript\n",
        "import pprint\n",
        "import pandas as pd\n",
        "from datetime import date\n",
        "\n",
        "def open_web(URL):\n",
        "    display(Javascript('window.open(\"{url}\");'.format(url=URL)))"
      ]
    },
    {
      "cell_type": "code",
      "source": [
        "PAGE = 1\n",
        "URL_prefix = \"https://www.strumentimusicali.net/product_info.php/products_id/\"\n",
        "\n",
        "def get_url_from_page(PAGE):\n",
        "    return \"https://www.strumentimusicali.net/advanced_search_result.php?sort=3d&categories_id=21&inc_subcat=1&keywords=&page=\" + str(PAGE) + \"&products_available=1&used=1\"\n",
        "def get_soup(url):\n",
        "    response = r.get(url)\n",
        "    response.raise_for_status()\n",
        "    return bs4.BeautifulSoup(response.text, \"html.parser\")\n",
        "def find_firstGrade_characteristics(soup):\n",
        "    to_ret = []\n",
        "    for child in soup.descendants:\n",
        "        if child.name == 'li':\n",
        "            for child2 in child.descendants:\n",
        "                if (child2.name == 'b' or child2.name == 'strong') and ':' in child2.text:\n",
        "                    to_ret.append(child2.text)\n",
        "    return to_ret\n",
        "\n",
        "\n",
        "soup = get_soup(get_url_from_page(PAGE))\n",
        "annunci = soup.find_all('tr', class_='productListing-even')\n",
        "\n",
        "names = []\n",
        "prices = []\n",
        "links = []\n",
        "descriptions = []\n",
        "characteristics = []\n",
        "\n",
        "while (len(annunci) > 0):\n",
        "\n",
        "    for annuncio in annunci:\n",
        "\n",
        "        title = annuncio.find('b').text.strip()\n",
        "        link = annuncio.find('a')['href']\n",
        "        price = annuncio.find('span', class_='d-block fontSize14 marginBottom5 bold')\n",
        "\n",
        "        if price is None: # sconto\n",
        "            price = annuncio.find('span', class_='productSpecialPrice bold')\n",
        "        price = price.text\n",
        "\n",
        "        if URL_prefix in link:\n",
        "            names.append(title)\n",
        "            prices.append(price)\n",
        "            links.append(link)\n",
        "            firstGrade_soup = get_soup(link)\n",
        "            firstGrade_page = firstGrade_soup.find('td', class_='productDesc')\n",
        "            descriptions.append(firstGrade_page.text.replace('\\n', ' ').replace('       ', ' ').strip())\n",
        "            characteristics.append(find_firstGrade_characteristics(firstGrade_soup))\n",
        "\n",
        "    PAGE += 1\n",
        "    soup = get_soup(get_url_from_page(PAGE))\n",
        "    annunci = soup.find_all('tr', class_='productListing-even')\n",
        "\n",
        "products = {'Titolo Annuncio': names,\n",
        "        'Prezzo': prices,\n",
        "        'Descrizione': descriptions,\n",
        "        'Link': links,\n",
        "        'Caratteristiche': characteristics\n",
        "        }\n",
        "df = pd.DataFrame(products)\n",
        "df.to_csv(\"usato\"+str(date.today())+\".csv\", index=False)"
      ],
      "metadata": {
        "id": "rDdl-mFWip8h"
      },
      "execution_count": 2,
      "outputs": []
    }
  ]
}