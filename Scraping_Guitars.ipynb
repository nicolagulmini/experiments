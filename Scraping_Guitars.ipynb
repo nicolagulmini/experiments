{
  "nbformat": 4,
  "nbformat_minor": 0,
  "metadata": {
    "colab": {
      "provenance": [],
      "authorship_tag": "ABX9TyN0bH/R5//930c9teT7fY5W"
    },
    "kernelspec": {
      "name": "python3",
      "display_name": "Python 3"
    },
    "language_info": {
      "name": "python"
    }
  },
  "cells": [
    {
      "cell_type": "code",
      "execution_count": 1,
      "metadata": {
        "id": "q1hsu-KkVSzZ"
      },
      "outputs": [],
      "source": [
        "import bs4\n",
        "import requests as r\n",
        "from IPython.display import Javascript\n",
        "import pprint\n",
        "import pandas as pd\n",
        "from datetime import date\n",
        "\n",
        "def open_web(URL):\n",
        "    display(Javascript('window.open(\"{url}\");'.format(url=URL)))"
      ]
    },
    {
      "cell_type": "code",
      "source": [
        "PAGE = 1\n",
        "URL = \"https://www.strumentimusicali.net/advanced_search_result.php?sort=3d&categories_id=21&inc_subcat=1&keywords=&page=\" + str(PAGE) + \"&products_available=1&used=1\"\n",
        "\n",
        "URL_prefix = \"https://www.strumentimusicali.net/product_info.php/products_id/\"\n",
        "\n",
        "response = r.get(URL)\n",
        "response.raise_for_status()\n",
        "soup = bs4.BeautifulSoup(response.text, \"html.parser\")\n",
        "annunci = soup.find_all('tr', class_='productListing-even')\n",
        "\n",
        "names = []\n",
        "prices = []\n",
        "links = []\n",
        "\n",
        "while (len(annunci) > 0):\n",
        "\n",
        "    for annuncio in annunci:\n",
        "\n",
        "        title = annuncio.find('b').text.strip()\n",
        "        link = annuncio.find('a')['href']\n",
        "        price = annuncio.find('span', class_='d-block fontSize14 marginBottom5 bold')\n",
        "\n",
        "        if price is None: # sconto\n",
        "            price = annuncio.find('span', class_='productSpecialPrice bold')\n",
        "        price = price.text\n",
        "\n",
        "        if URL_prefix in link:\n",
        "            names.append(title)\n",
        "            prices.append(price)\n",
        "            links.append(link)\n",
        "\n",
        "    PAGE += 1\n",
        "    URL = \"https://www.strumentimusicali.net/advanced_search_result.php?sort=3d&categories_id=21&inc_subcat=1&keywords=&page=\" + str(PAGE) + \"&products_available=1&used=1\"\n",
        "    response = r.get(URL)\n",
        "    response.raise_for_status()\n",
        "    soup = bs4.BeautifulSoup(response.text, \"html.parser\")\n",
        "    annunci = soup.find_all('tr', class_='productListing-even')\n",
        "\n",
        "\n",
        "products = {'Titolo Annuncio': names,\n",
        "        'Prezzo': prices,\n",
        "        'Link': links\n",
        "        }\n",
        "df = pd.DataFrame(products)\n",
        "df.to_csv(\"usato\"+str(date.today())+\".csv\", index=False)"
      ],
      "metadata": {
        "id": "rDdl-mFWip8h"
      },
      "execution_count": 2,
      "outputs": []
    }
  ]
}